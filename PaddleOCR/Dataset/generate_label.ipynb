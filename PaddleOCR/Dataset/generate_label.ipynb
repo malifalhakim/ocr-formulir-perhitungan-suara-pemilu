{
 "cells": [
  {
   "cell_type": "code",
   "execution_count": 1,
   "metadata": {},
   "outputs": [],
   "source": [
    "import pandas as pd"
   ]
  },
  {
   "cell_type": "code",
   "execution_count": 12,
   "metadata": {},
   "outputs": [
    {
     "data": {
      "text/html": [
       "<div>\n",
       "<style scoped>\n",
       "    .dataframe tbody tr th:only-of-type {\n",
       "        vertical-align: middle;\n",
       "    }\n",
       "\n",
       "    .dataframe tbody tr th {\n",
       "        vertical-align: top;\n",
       "    }\n",
       "\n",
       "    .dataframe thead th {\n",
       "        text-align: right;\n",
       "    }\n",
       "</style>\n",
       "<table border=\"1\" class=\"dataframe\">\n",
       "  <thead>\n",
       "    <tr style=\"text-align: right;\">\n",
       "      <th></th>\n",
       "      <th>tps</th>\n",
       "      <th>suara</th>\n",
       "    </tr>\n",
       "  </thead>\n",
       "  <tbody>\n",
       "    <tr>\n",
       "      <th>0</th>\n",
       "      <td>TPS_001_1</td>\n",
       "      <td>159</td>\n",
       "    </tr>\n",
       "    <tr>\n",
       "      <th>1</th>\n",
       "      <td>TPS_001_2</td>\n",
       "      <td>9</td>\n",
       "    </tr>\n",
       "    <tr>\n",
       "      <th>2</th>\n",
       "      <td>TPS_001_3</td>\n",
       "      <td>2</td>\n",
       "    </tr>\n",
       "    <tr>\n",
       "      <th>3</th>\n",
       "      <td>TPS_002_1</td>\n",
       "      <td>112</td>\n",
       "    </tr>\n",
       "    <tr>\n",
       "      <th>4</th>\n",
       "      <td>TPS_002_2</td>\n",
       "      <td>87</td>\n",
       "    </tr>\n",
       "  </tbody>\n",
       "</table>\n",
       "</div>"
      ],
      "text/plain": [
       "         tps  suara\n",
       "0  TPS_001_1    159\n",
       "1  TPS_001_2      9\n",
       "2  TPS_001_3      2\n",
       "3  TPS_002_1    112\n",
       "4  TPS_002_2     87"
      ]
     },
     "execution_count": 12,
     "metadata": {},
     "output_type": "execute_result"
    }
   ],
   "source": [
    "df = pd.read_csv('label.csv')\n",
    "df.head()"
   ]
  },
  {
   "cell_type": "code",
   "execution_count": 13,
   "metadata": {},
   "outputs": [],
   "source": [
    "train_df = df.iloc[:1200]\n",
    "eval_df = df.iloc[1200:]"
   ]
  },
  {
   "cell_type": "code",
   "execution_count": 14,
   "metadata": {},
   "outputs": [
    {
     "name": "stderr",
     "output_type": "stream",
     "text": [
      "C:\\Users\\malif\\AppData\\Local\\Temp\\ipykernel_8456\\2606060811.py:3: SettingWithCopyWarning: \n",
      "A value is trying to be set on a copy of a slice from a DataFrame.\n",
      "Try using .loc[row_indexer,col_indexer] = value instead\n",
      "\n",
      "See the caveats in the documentation: https://pandas.pydata.org/pandas-docs/stable/user_guide/indexing.html#returning-a-view-versus-a-copy\n",
      "  train_df['suara'] = train_df['suara'].apply(lambda x: str(x).zfill(3))\n",
      "C:\\Users\\malif\\AppData\\Local\\Temp\\ipykernel_8456\\2606060811.py:4: SettingWithCopyWarning: \n",
      "A value is trying to be set on a copy of a slice from a DataFrame.\n",
      "Try using .loc[row_indexer,col_indexer] = value instead\n",
      "\n",
      "See the caveats in the documentation: https://pandas.pydata.org/pandas-docs/stable/user_guide/indexing.html#returning-a-view-versus-a-copy\n",
      "  eval_df['suara'] = eval_df['suara'].apply(lambda x: str(x).zfill(3))\n"
     ]
    }
   ],
   "source": [
    "# add leading zero to the label so that the label is 3 digits\n",
    "\n",
    "train_df['suara'] = train_df['suara'].apply(lambda x: str(x).zfill(3))\n",
    "eval_df['suara'] = eval_df['suara'].apply(lambda x: str(x).zfill(3))"
   ]
  },
  {
   "cell_type": "code",
   "execution_count": 15,
   "metadata": {},
   "outputs": [],
   "source": [
    "def generate_txt(df,is_train=True):\n",
    "    df = df.copy()\n",
    "    if is_train:\n",
    "        df['tps'] = df['tps'] + \".jpg\"\n",
    "    else:\n",
    "        df['tps'] = df['tps'] + \".jpg\"\n",
    "\n",
    "    print(df)\n",
    "    \n",
    "    df['txt'] = df['tps'] + \" \" + df['suara'].astype(str)\n",
    "\n",
    "    return df['txt']\n"
   ]
  },
  {
   "cell_type": "code",
   "execution_count": 16,
   "metadata": {},
   "outputs": [
    {
     "name": "stdout",
     "output_type": "stream",
     "text": [
      "                tps suara\n",
      "0     TPS_001_1.jpg   159\n",
      "1     TPS_001_2.jpg   009\n",
      "2     TPS_001_3.jpg   002\n",
      "3     TPS_002_1.jpg   112\n",
      "4     TPS_002_2.jpg   087\n",
      "...             ...   ...\n",
      "1195  TPS_399_2.jpg   113\n",
      "1196  TPS_399_3.jpg   117\n",
      "1197  TPS_400_1.jpg   008\n",
      "1198  TPS_400_2.jpg   080\n",
      "1199  TPS_400_3.jpg   106\n",
      "\n",
      "[1200 rows x 2 columns]\n",
      "                tps suara\n",
      "1200  TPS_401_1.jpg   020\n",
      "1201  TPS_401_2.jpg   119\n",
      "1202  TPS_401_3.jpg   101\n",
      "1203  TPS_402_1.jpg   014\n",
      "1204  TPS_402_2.jpg   134\n",
      "...             ...   ...\n",
      "1495  TPS_499_2.jpg   130\n",
      "1496  TPS_499_3.jpg   032\n",
      "1497  TPS_500_1.jpg   064\n",
      "1498  TPS_500_2.jpg   130\n",
      "1499  TPS_500_3.jpg   037\n",
      "\n",
      "[300 rows x 2 columns]\n"
     ]
    }
   ],
   "source": [
    "train_labeled = generate_txt(train_df)\n",
    "eval_labeled = generate_txt(eval_df,is_train=False)"
   ]
  },
  {
   "cell_type": "code",
   "execution_count": 17,
   "metadata": {},
   "outputs": [
    {
     "data": {
      "text/plain": [
       "0       TPS_001_1.jpg 159\n",
       "1       TPS_001_2.jpg 009\n",
       "2       TPS_001_3.jpg 002\n",
       "3       TPS_002_1.jpg 112\n",
       "4       TPS_002_2.jpg 087\n",
       "              ...        \n",
       "1195    TPS_399_2.jpg 113\n",
       "1196    TPS_399_3.jpg 117\n",
       "1197    TPS_400_1.jpg 008\n",
       "1198    TPS_400_2.jpg 080\n",
       "1199    TPS_400_3.jpg 106\n",
       "Name: txt, Length: 1200, dtype: object"
      ]
     },
     "execution_count": 17,
     "metadata": {},
     "output_type": "execute_result"
    }
   ],
   "source": [
    "train_labeled"
   ]
  },
  {
   "cell_type": "code",
   "execution_count": 18,
   "metadata": {},
   "outputs": [],
   "source": [
    "train_labeled.to_csv('train.txt', index=False, header=False)\n",
    "eval_labeled.to_csv('eval.txt', index=False, header=False)"
   ]
  }
 ],
 "metadata": {
  "kernelspec": {
   "display_name": "Python 3",
   "language": "python",
   "name": "python3"
  },
  "language_info": {
   "codemirror_mode": {
    "name": "ipython",
    "version": 3
   },
   "file_extension": ".py",
   "mimetype": "text/x-python",
   "name": "python",
   "nbconvert_exporter": "python",
   "pygments_lexer": "ipython3",
   "version": "3.10.7"
  }
 },
 "nbformat": 4,
 "nbformat_minor": 2
}
