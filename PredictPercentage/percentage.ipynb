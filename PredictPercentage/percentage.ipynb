{
 "cells": [
  {
   "cell_type": "code",
   "execution_count": 1,
   "metadata": {},
   "outputs": [],
   "source": [
    "import pandas as pd\n",
    "\n",
    "import warnings\n",
    "warnings.filterwarnings(\"ignore\")"
   ]
  },
  {
   "cell_type": "code",
   "execution_count": 2,
   "metadata": {},
   "outputs": [],
   "source": [
    "df1 = pd.read_csv('model1.csv')\n",
    "df2 = pd.read_csv('model2.csv')"
   ]
  },
  {
   "cell_type": "code",
   "execution_count": 3,
   "metadata": {},
   "outputs": [],
   "source": [
    "# buat dataframe baru yang terdiri dari tps dan suara\n",
    "# suara dipilih dari df1 dan df2 dengan confidence score tertinggi\n",
    "df = pd.DataFrame()\n",
    "df['tps'] = df1['tps']\n",
    "df['suara'] = df1['suara']\n",
    "df['confidence_score'] = df1['confidence_score']\n",
    "for i in range(len(df1)):\n",
    "    if df['tps'][i] in ['TPS_606_1','TPS_648_2','TPS_700_1','TPS_700_2','TPS_700_3']:\n",
    "        continue\n",
    "    if df2['confidence_score'][i] > df1['confidence_score'][i]:\n",
    "        df['suara'][i] = df2['suara'][i]\n",
    "        df['confidence_score'][i] = df2['confidence_score'][i]"
   ]
  },
  {
   "cell_type": "code",
   "execution_count": 4,
   "metadata": {},
   "outputs": [
    {
     "data": {
      "text/html": [
       "<div>\n",
       "<style scoped>\n",
       "    .dataframe tbody tr th:only-of-type {\n",
       "        vertical-align: middle;\n",
       "    }\n",
       "\n",
       "    .dataframe tbody tr th {\n",
       "        vertical-align: top;\n",
       "    }\n",
       "\n",
       "    .dataframe thead th {\n",
       "        text-align: right;\n",
       "    }\n",
       "</style>\n",
       "<table border=\"1\" class=\"dataframe\">\n",
       "  <thead>\n",
       "    <tr style=\"text-align: right;\">\n",
       "      <th></th>\n",
       "      <th>tps</th>\n",
       "      <th>suara_paslon_1</th>\n",
       "      <th>suara_paslon_2</th>\n",
       "      <th>suara_paslon_3</th>\n",
       "    </tr>\n",
       "  </thead>\n",
       "  <tbody>\n",
       "    <tr>\n",
       "      <th>0</th>\n",
       "      <td>TPS_501</td>\n",
       "      <td>77</td>\n",
       "      <td>141</td>\n",
       "      <td>18</td>\n",
       "    </tr>\n",
       "    <tr>\n",
       "      <th>1</th>\n",
       "      <td>TPS_502</td>\n",
       "      <td>125</td>\n",
       "      <td>98</td>\n",
       "      <td>12</td>\n",
       "    </tr>\n",
       "    <tr>\n",
       "      <th>2</th>\n",
       "      <td>TPS_503</td>\n",
       "      <td>41</td>\n",
       "      <td>165</td>\n",
       "      <td>23</td>\n",
       "    </tr>\n",
       "    <tr>\n",
       "      <th>3</th>\n",
       "      <td>TPS_504</td>\n",
       "      <td>21</td>\n",
       "      <td>153</td>\n",
       "      <td>41</td>\n",
       "    </tr>\n",
       "    <tr>\n",
       "      <th>4</th>\n",
       "      <td>TPS_505</td>\n",
       "      <td>59</td>\n",
       "      <td>172</td>\n",
       "      <td>11</td>\n",
       "    </tr>\n",
       "    <tr>\n",
       "      <th>...</th>\n",
       "      <td>...</td>\n",
       "      <td>...</td>\n",
       "      <td>...</td>\n",
       "      <td>...</td>\n",
       "    </tr>\n",
       "    <tr>\n",
       "      <th>195</th>\n",
       "      <td>TPS_696</td>\n",
       "      <td>1</td>\n",
       "      <td>91</td>\n",
       "      <td>6</td>\n",
       "    </tr>\n",
       "    <tr>\n",
       "      <th>196</th>\n",
       "      <td>TPS_697</td>\n",
       "      <td>64</td>\n",
       "      <td>158</td>\n",
       "      <td>9</td>\n",
       "    </tr>\n",
       "    <tr>\n",
       "      <th>197</th>\n",
       "      <td>TPS_698</td>\n",
       "      <td>5</td>\n",
       "      <td>144</td>\n",
       "      <td>38</td>\n",
       "    </tr>\n",
       "    <tr>\n",
       "      <th>198</th>\n",
       "      <td>TPS_699</td>\n",
       "      <td>0</td>\n",
       "      <td>165</td>\n",
       "      <td>43</td>\n",
       "    </tr>\n",
       "    <tr>\n",
       "      <th>199</th>\n",
       "      <td>TPS_700</td>\n",
       "      <td>63</td>\n",
       "      <td>121</td>\n",
       "      <td>31</td>\n",
       "    </tr>\n",
       "  </tbody>\n",
       "</table>\n",
       "<p>200 rows × 4 columns</p>\n",
       "</div>"
      ],
      "text/plain": [
       "         tps  suara_paslon_1  suara_paslon_2  suara_paslon_3\n",
       "0    TPS_501              77             141              18\n",
       "1    TPS_502             125              98              12\n",
       "2    TPS_503              41             165              23\n",
       "3    TPS_504              21             153              41\n",
       "4    TPS_505              59             172              11\n",
       "..       ...             ...             ...             ...\n",
       "195  TPS_696               1              91               6\n",
       "196  TPS_697              64             158               9\n",
       "197  TPS_698               5             144              38\n",
       "198  TPS_699               0             165              43\n",
       "199  TPS_700              63             121              31\n",
       "\n",
       "[200 rows x 4 columns]"
      ]
     },
     "execution_count": 4,
     "metadata": {},
     "output_type": "execute_result"
    }
   ],
   "source": [
    "result_df = df\n",
    "result_df[['tps','suara_paslon']] = result_df['tps'].str.rsplit('_', n=1, expand=True)\n",
    "result_df = result_df.pivot(index='tps', columns='suara_paslon', values='suara')\n",
    "result_df.columns = ['suara_paslon_' + str(col) for col in result_df.columns]\n",
    "result_df = result_df.reset_index()\n",
    "result_df"
   ]
  },
  {
   "cell_type": "code",
   "execution_count": 6,
   "metadata": {},
   "outputs": [],
   "source": [
    "result_df.to_csv('prediksi-tiap-tps.csv', index=False)"
   ]
  },
  {
   "cell_type": "code",
   "execution_count": 16,
   "metadata": {},
   "outputs": [],
   "source": [
    "result_df['Persentase Suara Sah Paslon 2'] = ( result_df['suara_paslon_2'] / (result_df['suara_paslon_1'] + result_df['suara_paslon_2'] + result_df['suara_paslon_3']) ) * 100"
   ]
  },
  {
   "cell_type": "code",
   "execution_count": 17,
   "metadata": {},
   "outputs": [],
   "source": [
    "result_df.rename(columns={'tps':'TPS'}, inplace=True)"
   ]
  },
  {
   "cell_type": "code",
   "execution_count": 18,
   "metadata": {},
   "outputs": [],
   "source": [
    "# Bulatkan empat angka dibelakang koma persentase suara sah\n",
    "result_df['Persentase Suara Sah Paslon 2'] = result_df['Persentase Suara Sah Paslon 2'].round(4)"
   ]
  },
  {
   "cell_type": "code",
   "execution_count": 19,
   "metadata": {},
   "outputs": [],
   "source": [
    "result_df[['TPS', 'Persentase Suara Sah Paslon 2']].to_csv('final_result_persentase.csv', index=False)"
   ]
  }
 ],
 "metadata": {
  "kernelspec": {
   "display_name": "Python 3",
   "language": "python",
   "name": "python3"
  },
  "language_info": {
   "codemirror_mode": {
    "name": "ipython",
    "version": 3
   },
   "file_extension": ".py",
   "mimetype": "text/x-python",
   "name": "python",
   "nbconvert_exporter": "python",
   "pygments_lexer": "ipython3",
   "version": "3.10.7"
  }
 },
 "nbformat": 4,
 "nbformat_minor": 2
}
